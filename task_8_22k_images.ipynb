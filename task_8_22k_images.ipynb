{
  "nbformat": 4,
  "nbformat_minor": 0,
  "metadata": {
    "colab": {
      "name": "task_8_22k_images.ipynb",
      "provenance": [],
      "collapsed_sections": [],
      "toc_visible": true
    },
    "kernelspec": {
      "name": "python3",
      "display_name": "Python 3"
    },
    "accelerator": "GPU"
  },
  "cells": [
    {
      "cell_type": "markdown",
      "metadata": {
        "id": "JEcTIyurwQy9"
      },
      "source": [
        "# Read Data"
      ]
    },
    {
      "cell_type": "markdown",
      "metadata": {
        "id": "pHiMDDVKYqbp"
      },
      "source": [
        "# read data"
      ]
    },
    {
      "cell_type": "code",
      "metadata": {
        "id": "8lRSNrDO8kN-"
      },
      "source": [
        "\n",
        "## load data set\n",
        "## run this only if you already have the saved data in your drive\n",
        "import h5py\n",
        "import numpy as np\n",
        "\n",
        "hf = h5py.File('/content/drive/My Drive/Task_8/input/x_train.h5', 'r')\n",
        "X_train = np.array(hf['QuickDraw'][:])\n",
        "hf = h5py.File('/content/drive/My Drive/Task_8/input/y_train.h5', 'r')\n",
        "Y_train= np.array(hf['QuickDraw'][:])\n",
        "hf = h5py.File('/content/drive/My Drive/Task_8/input/x_valid.h5', 'r')\n",
        "X_valid = np.array(hf['QuickDraw'][:])\n",
        "hf = h5py.File('/content/drive/My Drive/Task_8/input/y_valid.h5', 'r')\n",
        "Y_valid = np.array(hf['QuickDraw'][:])\n",
        "hf = h5py.File('/content/drive/My Drive/Task_8/input/x_test.h5', 'r')\n",
        "X_test = np.array(hf['QuickDraw'][:])\n",
        "hf = h5py.File('/content/drive/My Drive/Task_8/input/y_test.h5', 'r')\n",
        "Y_test = np.array(hf['QuickDraw'][:])"
      ],
      "execution_count": 1,
      "outputs": []
    },
    {
      "cell_type": "code",
      "metadata": {
        "id": "sV1Iv5wGrm7V",
        "outputId": "a5dc9a94-048e-4d4b-8a2f-5a69a64c1d73",
        "colab": {
          "base_uri": "https://localhost:8080/"
        }
      },
      "source": [
        "print(X_train.shape)\n",
        "print(Y_train.shape)\n",
        "print(X_valid.shape)\n",
        "print(X_test.shape)"
      ],
      "execution_count": 2,
      "outputs": [
        {
          "output_type": "stream",
          "text": [
            "(13924, 64, 64, 1)\n",
            "(13924, 1)\n",
            "(3482, 64, 64, 1)\n",
            "(4352, 64, 64, 1)\n"
          ],
          "name": "stdout"
        }
      ]
    },
    {
      "cell_type": "markdown",
      "metadata": {
        "id": "NwGJ5HhPwc8n"
      },
      "source": [
        "# Conv Neural Net"
      ]
    },
    {
      "cell_type": "code",
      "metadata": {
        "id": "OrpsRu2CdC9W"
      },
      "source": [
        "import tensorflow as tf\n",
        "from tensorflow.keras import Sequential\n",
        "from tensorflow.keras.layers import Conv2D, Dense,BatchNormalization, MaxPool2D, ReLU, Input, Flatten, Activation\n",
        "import datetime\n",
        "import tensorboard\n",
        "import random\n",
        "\n",
        "random.seed(3)\n",
        "# set the format of image\n",
        "tf.keras.backend.set_image_data_format(data_format='channels_last')\n",
        "# view structure of model in the below cell\n",
        "\n",
        "my_model = Sequential()\n",
        "\n",
        "my_model.add(Conv2D(filters=64,kernel_size=(3,3)))\n",
        "my_model.add(MaxPool2D())\n",
        "my_model.add(Activation('relu'))\n",
        "\n",
        "my_model.add(Conv2D(32,3,strides=1))\n",
        "my_model.add(MaxPool2D(strides=2))\n",
        "my_model.add(Activation('relu'))\n",
        "\n",
        "\n",
        "my_model.add(Conv2D(64,1,strides=1))\n",
        "my_model.add(MaxPool2D(strides=2))\n",
        "my_model.add(Activation('relu'))\n",
        "\n",
        "my_model.add(Conv2D(32,3))\n",
        "my_model.add(Activation('relu'))\n",
        "\n",
        "my_model.add(Flatten())\n",
        "my_model.add(Dense(200,activation='relu'))\n",
        "my_model.add(Dense(40, activation='relu'))\n",
        "my_model.add(Dense(1,  activation='sigmoid'))\n",
        "\n",
        "print('done')\n",
        "\n",
        "loss = tf.keras.losses.BinaryCrossentropy()\n",
        "log_dir = '/content/drive/My Drive/Task_8/logs/fit/seed3'\n",
        "call_back = [tf.keras.callbacks.TensorBoard(log_dir=log_dir, write_graph=True),\n",
        "            tf.keras.callbacks.EarlyStopping(monitor='val_loss', min_delta=0, patience=10)]\n",
        "my_model.compile(optimizer='adam',loss=loss, metrics=['binary_accuracy'] )\n",
        "\n",
        "my_model.fit(x=X_train, y=Y_train, batch_size=15, callbacks=call_back, epochs=100, validation_data=(X_valid,Y_valid),verbose=2)"
      ],
      "execution_count": null,
      "outputs": []
    },
    {
      "cell_type": "code",
      "metadata": {
        "id": "YSwOliBbI4Iu"
      },
      "source": [
        "\n",
        "%load_ext tensorboard\n",
        "\n",
        "%tensorboard --logdir '/content/drive/My Drive/Task_8/logs/fit/seed3'"
      ],
      "execution_count": null,
      "outputs": []
    },
    {
      "cell_type": "code",
      "metadata": {
        "id": "wj8aqMgTdDIu",
        "outputId": "ee85cc70-c0a4-4527-b2dc-22b339bd0d1e",
        "colab": {
          "base_uri": "https://localhost:8080/"
        }
      },
      "source": [
        "# predict and cal accuracy\n",
        "my_model.evaluate(x=X_test, y=Y_test)"
      ],
      "execution_count": 25,
      "outputs": [
        {
          "output_type": "stream",
          "text": [
            "136/136 [==============================] - 0s 3ms/step - loss: 0.0697 - binary_accuracy: 0.9899\n"
          ],
          "name": "stdout"
        },
        {
          "output_type": "execute_result",
          "data": {
            "text/plain": [
              "[0.06970618665218353, 0.9898896813392639]"
            ]
          },
          "metadata": {
            "tags": []
          },
          "execution_count": 25
        }
      ]
    },
    {
      "cell_type": "code",
      "metadata": {
        "id": "BSOeyhKKrk2l"
      },
      "source": [
        "model_path = '/content/drive/My Drive/Task_8/task_8_parameters/'\n",
        "\n",
        "my_model.save(model_path+'seed3' + '.h5')"
      ],
      "execution_count": 24,
      "outputs": []
    }
  ]
}